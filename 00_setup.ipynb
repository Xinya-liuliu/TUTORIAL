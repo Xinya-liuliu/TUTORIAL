{
 "cells": [
  {
   "cell_type": "markdown",
   "metadata": {},
   "source": [
    "<h1 align=\"center\">SimpleITK: image analysis for all levels of programming expertise  SimpleITK：适用于所有级别的编程专业知识的图像分析</h1>\n",
    "\n",
    "## Newcomers to Jupyter notebooks:\n",
    "1. We use two types of cells, code and markdown.我们使用两种类型的单元格，代码和markdown\n",
    "2. To run a code cell, select it (mouse or arrow key so that it is highlighted) and then press shift+enter which also moves focus to the next cell or ctrl+enter which doesn't.\n",
    "要运行代码单元格，请选择它（鼠标或箭头键使其突出显示），然后按 shift+enter 键也会将焦点移动到下一个单元格或 ctrl+enter 键不会。\n",
    "3. Closing the browser window does not close the Jupyter server. To close the server, go to the terminal where you ran it and press ctrl+c twice.\n",
    "关闭浏览器窗口不会关闭 Jupyter 服务器。 要关闭服务器，请转到运行它的终端并按 ctrl c 两次。\n",
    "\n",
    "For additional details see the [Jupyter project documentation](https://jupyter.org/documentation) on Jupyter Notebook or JupyterLab.\n",
    "\n",
    "## Convenience\n",
    "By default the contents of the Jupyter notebooks do not occupy the full browser window width. To take advantage of the full window width you can either configure each notebook independently by adding the following into a code cell:\n",
    "\n",
    "默认情况下，Jupyter 笔记本的内容不会占据整个浏览器窗口宽度。要利用完整的窗口宽度，您可以通过将以下内容添加到代码单元中来独立配置每个笔记本：\n",
    "\n",
    "```\n",
    "from IPython.core.display import display, HTML\n",
    "display(HTML(\"<style>.container { width:100% !important; }</style>\"))\n",
    "```\n",
    "Or apply this configuration to all notebooks by adding the following to\n",
    "the custom.css jupyter configuration file:\n",
    "或者通过将以下内容添加到 custom.css jupyter 配置文件中，将此配置应用于所有笔记本：\n",
    "\n",
    "```\n",
    ".container { width:100% !important; }\n",
    "```\n",
    "On OSX/Linux this file is found in `~/.jupyter/custom/custom.css` on windows it is\n",
    "found in `C:\\Users\\[your_user_name]\\.jupyter\\custom\\custom.css`.\n",
    "在 OSX/Linux 上，此文件位于 ~/.jupyter/custom/custom.css 中，在 Windows 上位于 C:\\Users\\[your_user_name]\\.jupyter\\custom\\custom.css 中。\n",
    "\n",
    "## Environment Setup for Course\n",
    "\n",
    "This notebook should be run prior to arriving at the course venue, as it <b>requires network connectivity</b>.\n",
    "这个笔记本应该在到达课程场地之前运行，因为它需要网络连接。"
   ]
  },
  {
   "cell_type": "markdown",
   "metadata": {},
   "source": [
    "First, lets check that you have the SimpleITK version which you expect."
   ]
  },
  {
   "cell_type": "code",
   "execution_count": null,
   "metadata": {},
   "outputs": [],
   "source": [
    "import SimpleITK as sitk\n",
    "from downloaddata import fetch_data, fetch_data_all\n",
    "\n",
    "from ipywidgets import interact\n",
    "\n",
    "print(sitk.Version())"
   ]
  },
  {
   "cell_type": "markdown",
   "metadata": {},
   "source": [
    "Next, we check that the auxiliary program(s) are correctly installed in your environment.\n",
    "\n",
    "We expect that you have an external image viewer installed. The default viewer is <a href=\"https://fiji.sc/#download\">Fiji</a>. If you have another viewer (i.e. ITK-SNAP or 3D Slicer) you will need to set an environment variable to point to it. This is done using an environment variable which can also be set from within a notebook as shown below.\n",
    "\n",
    "接下来，我们检查辅助程序是否正确安装在您的环境中。 我们希望您安装了外部图像查看器。 默认查看器是斐济。 如果您有另一个查看器（即 ITK-SNAP 或 3D Slicer），则需要设置一个环境变量来指向它。 这是使用环境变量完成的，该变量也可以在笔记本中设置，如下所示。"
   ]
  },
  {
   "cell_type": "code",
   "execution_count": null,
   "metadata": {
    "simpleitk_error_allowed": "Exception thrown in SimpleITK ImageViewer_Execute:"
   },
   "outputs": [],
   "source": [
    "# Retrieve an image from the network, read it and display using the external viewer\n",
    "# 从网络中检索图像，读取并使用外部查看器显示\n",
    "image_viewer = sitk.ImageViewer()\n",
    "# Uncomment the line below to change the default external viewer to your viewer of choice and test that it works.\n",
    "# 取消注释下面的行以将默认外部查看器更改为您选择的查看器并测试它是否有效。\n",
    "#image_viewer.SetApplication('/Applications/ITK-SNAP.app/Contents/MacOS/ITK-SNAP')\n",
    "\n",
    "image_viewer.Execute(sitk.ReadImage(fetch_data(\"SimpleITK.jpg\")))"
   ]
  },
  {
   "cell_type": "markdown",
   "metadata": {},
   "source": [
    "Now we check that the ipywidgets will display correctly. When you run the following cell you should see a slider.\n",
    "现在我们检查 ipywidget 是否正确显示。当您运行以下单元格时，您应该会看到一个滑块。\n",
    "\n",
    "If you don't see a slider please shutdown the Jupyter server, at the Anaconda command line prompt press Control-c twice, and then run the following command:\n",
    "如果您没有看到滑块，请关闭 Jupyter 服务器，在 Anaconda 命令行提示符下按两次 Control-c，然后运行以下命令：\n",
    "\n",
    "```jupyter nbextension enable --py --sys-prefix widgetsnbextension```"
   ]
  },
  {
   "cell_type": "code",
   "execution_count": null,
   "metadata": {},
   "outputs": [],
   "source": [
    "interact(lambda x: x, x=(0,10));"
   ]
  },
  {
   "cell_type": "markdown",
   "metadata": {},
   "source": [
    "Finally, we download all of the data used in the notebooks in advance. This step is necessary as we will be running the notebooks without network connectivity.\n",
    "\n",
    "This may take a couple of minutes depending on your network.\n",
    "\n",
    "最后，我们提前下载了笔记本中用到的所有数据。这一步是必要的，因为我们将在没有网络连接的情况下运行笔记本。 这可能需要几分钟，具体取决于您的网络。"
   ]
  },
  {
   "cell_type": "code",
   "execution_count": null,
   "metadata": {},
   "outputs": [],
   "source": [
    "import os\n",
    "\n",
    "fetch_data_all('data', os.path.join('data','manifest.json'))"
   ]
  },
  {
   "cell_type": "markdown",
   "metadata": {},
   "source": [
    "<a href=\"01_spatial_transformations.ipynb\"><h2 align=right>Next &raquo;</h2></a>"
   ]
  }
 ],
 "metadata": {
  "kernelspec": {
   "display_name": "Python 3",
   "language": "python",
   "name": "python3"
  },
  "language_info": {
   "codemirror_mode": {
    "name": "ipython",
    "version": 3
   },
   "file_extension": ".py",
   "mimetype": "text/x-python",
   "name": "python",
   "nbconvert_exporter": "python",
   "pygments_lexer": "ipython3",
   "version": "3.8.5"
  }
 },
 "nbformat": 4,
 "nbformat_minor": 2
}
